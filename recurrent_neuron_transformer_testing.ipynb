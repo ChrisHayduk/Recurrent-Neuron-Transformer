{
 "cells": [
  {
   "cell_type": "code",
   "execution_count": 1,
   "metadata": {},
   "outputs": [],
   "source": [
    "import torch\n",
    "from torch import nn\n",
    "from models.recurrent_neuron_transformer import RecurrentNeuronTransformer\n",
    "from tqdm import tqdm\n",
    "DEVICE = \"cuda\"\n"
   ]
  },
  {
   "cell_type": "code",
   "execution_count": 3,
   "metadata": {},
   "outputs": [],
   "source": [
    "def train_shakespeare_trainsformer(model, context_window, step_size, data_loader, optimizer, num_epochs, device=DEVICE, mask=False):\n",
    "    for epoch in range(num_epochs):\n",
    "        model.train()\n",
    "        epoch_loss = 0\n",
    "        progress_bar = tqdm(data_loader, desc=f'Epoch {epoch+1}/{num_epochs}', leave=False)\n",
    "\n",
    "        \n",
    "        for chunk in progress_bar:\n",
    "            hidden_layers = dict()\n",
    "            for i in range(0, chunk.size(1) - context_window, step_size):\n",
    "                # Create input and target sequences\n",
    "                input_seq = chunk[:, i:i+context_window].to(device)\n",
    "                target_seq = chunk[:, i+1:i+context_window+1].to(device)\n",
    "                \n",
    "                # Forward pass\n",
    "                outputs, hidden_layers = model(inputs=input_seq, hidden_layers=hidden_layers)\n",
    "                outputs = outputs.view(-1, outputs.size(-1))\n",
    "                target_seq = target_seq.view(-1)\n",
    "\n",
    "                # Calculate loss and backpropagate\n",
    "                loss = nn.CrossEntropyLoss()(outputs, target_seq)\n",
    "                epoch_loss += loss.item()\n",
    "                loss.backward()\n",
    "                \n",
    "                # Logging the loss and update progress bar\n",
    "                progress_bar.set_postfix(loss=epoch_loss/(i+1))\n",
    "\n",
    "            \n",
    "            # Zero the gradients\n",
    "            optimizer.step()\n",
    "            optimizer.zero_grad()\n",
    "                \n",
    "\n",
    "        print(f\"Epoch {epoch+1}/{num_epochs} completed. Loss: {epoch_loss/len(data_loader)}\")"
   ]
  },
  {
   "cell_type": "code",
   "execution_count": 4,
   "metadata": {},
   "outputs": [],
   "source": [
    "from transformers import GPT2Tokenizer\n",
    "from utils.datasets import ShakespeareDataset\n",
    "from torch.utils.data import TensorDataset, DataLoader\n",
    "\n",
    "# Define tokenizer used to convert text to tokens\n",
    "tokenizer = GPT2Tokenizer.from_pretrained('gpt2')\n",
    "\n",
    "# Create dataset class instance and \n",
    "dataset = ShakespeareDataset(csv_file='data/shakespeare/shakespeare_data.csv', chunk_length=2048, tokenizer=tokenizer)\n",
    "data_loader = DataLoader(dataset, batch_size=1, shuffle=True)"
   ]
  },
  {
   "cell_type": "code",
   "execution_count": 5,
   "metadata": {},
   "outputs": [],
   "source": [
    "# Define the context window size k (defaulting to chunk_length / 2)\n",
    "context_window = 1024\n",
    "\n",
    "# Define the model\n",
    "transformer_model = RecurrentNeuronTransformer(input_size=tokenizer.vocab_size, output_size=tokenizer.vocab_size, device=DEVICE, max_length=context_window)\n",
    "\n",
    "# Define optimizer\n",
    "transformer_optimizer = torch.optim.Adam(transformer_model.parameters(), lr=0.001)"
   ]
  },
  {
   "cell_type": "code",
   "execution_count": 6,
   "metadata": {},
   "outputs": [
    {
     "name": "stderr",
     "output_type": "stream",
     "text": [
      "                                                            \r"
     ]
    },
    {
     "ename": "RuntimeError",
     "evalue": "Sizes of tensors must match except in dimension 1. Expected size 96 but got size 1 for tensor number 1 in the list.",
     "output_type": "error",
     "traceback": [
      "\u001b[1;31m---------------------------------------------------------------------------\u001b[0m",
      "\u001b[1;31mRuntimeError\u001b[0m                              Traceback (most recent call last)",
      "\u001b[1;32mc:\\Users\\chris\\Desktop\\recurrent_neuron_transformers\\recurrent_neuron_transformer_testing.ipynb Cell 5\u001b[0m line \u001b[0;36m5\n\u001b[0;32m      <a href='vscode-notebook-cell:/c%3A/Users/chris/Desktop/recurrent_neuron_transformers/recurrent_neuron_transformer_testing.ipynb#X12sZmlsZQ%3D%3D?line=1'>2</a>\u001b[0m step_size \u001b[39m=\u001b[39m \u001b[39m64\u001b[39m\n\u001b[0;32m      <a href='vscode-notebook-cell:/c%3A/Users/chris/Desktop/recurrent_neuron_transformers/recurrent_neuron_transformer_testing.ipynb#X12sZmlsZQ%3D%3D?line=3'>4</a>\u001b[0m \u001b[39m# Train the model\u001b[39;00m\n\u001b[1;32m----> <a href='vscode-notebook-cell:/c%3A/Users/chris/Desktop/recurrent_neuron_transformers/recurrent_neuron_transformer_testing.ipynb#X12sZmlsZQ%3D%3D?line=4'>5</a>\u001b[0m train_shakespeare_trainsformer(transformer_model, context_window, step_size, data_loader, \n\u001b[0;32m      <a href='vscode-notebook-cell:/c%3A/Users/chris/Desktop/recurrent_neuron_transformers/recurrent_neuron_transformer_testing.ipynb#X12sZmlsZQ%3D%3D?line=5'>6</a>\u001b[0m                                optimizer\u001b[39m=\u001b[39;49mtransformer_optimizer, num_epochs\u001b[39m=\u001b[39;49m\u001b[39m2\u001b[39;49m)\n",
      "\u001b[1;32mc:\\Users\\chris\\Desktop\\recurrent_neuron_transformers\\recurrent_neuron_transformer_testing.ipynb Cell 5\u001b[0m line \u001b[0;36m1\n\u001b[0;32m     <a href='vscode-notebook-cell:/c%3A/Users/chris/Desktop/recurrent_neuron_transformers/recurrent_neuron_transformer_testing.ipynb#X12sZmlsZQ%3D%3D?line=12'>13</a>\u001b[0m target_seq \u001b[39m=\u001b[39m chunk[:, i\u001b[39m+\u001b[39m\u001b[39m1\u001b[39m:i\u001b[39m+\u001b[39mcontext_window\u001b[39m+\u001b[39m\u001b[39m1\u001b[39m]\u001b[39m.\u001b[39mto(device)\n\u001b[0;32m     <a href='vscode-notebook-cell:/c%3A/Users/chris/Desktop/recurrent_neuron_transformers/recurrent_neuron_transformer_testing.ipynb#X12sZmlsZQ%3D%3D?line=14'>15</a>\u001b[0m \u001b[39m# Forward pass\u001b[39;00m\n\u001b[1;32m---> <a href='vscode-notebook-cell:/c%3A/Users/chris/Desktop/recurrent_neuron_transformers/recurrent_neuron_transformer_testing.ipynb#X12sZmlsZQ%3D%3D?line=15'>16</a>\u001b[0m outputs, hidden_layers \u001b[39m=\u001b[39m model(inputs\u001b[39m=\u001b[39;49minput_seq, hidden_layers\u001b[39m=\u001b[39;49mhidden_layers)\n\u001b[0;32m     <a href='vscode-notebook-cell:/c%3A/Users/chris/Desktop/recurrent_neuron_transformers/recurrent_neuron_transformer_testing.ipynb#X12sZmlsZQ%3D%3D?line=16'>17</a>\u001b[0m outputs \u001b[39m=\u001b[39m outputs\u001b[39m.\u001b[39mview(\u001b[39m-\u001b[39m\u001b[39m1\u001b[39m, outputs\u001b[39m.\u001b[39msize(\u001b[39m-\u001b[39m\u001b[39m1\u001b[39m))\n\u001b[0;32m     <a href='vscode-notebook-cell:/c%3A/Users/chris/Desktop/recurrent_neuron_transformers/recurrent_neuron_transformer_testing.ipynb#X12sZmlsZQ%3D%3D?line=17'>18</a>\u001b[0m target_seq \u001b[39m=\u001b[39m target_seq\u001b[39m.\u001b[39mview(\u001b[39m-\u001b[39m\u001b[39m1\u001b[39m)\n",
      "File \u001b[1;32mc:\\Python311\\Lib\\site-packages\\torch\\nn\\modules\\module.py:1518\u001b[0m, in \u001b[0;36mModule._wrapped_call_impl\u001b[1;34m(self, *args, **kwargs)\u001b[0m\n\u001b[0;32m   1516\u001b[0m     \u001b[39mreturn\u001b[39;00m \u001b[39mself\u001b[39m\u001b[39m.\u001b[39m_compiled_call_impl(\u001b[39m*\u001b[39margs, \u001b[39m*\u001b[39m\u001b[39m*\u001b[39mkwargs)  \u001b[39m# type: ignore[misc]\u001b[39;00m\n\u001b[0;32m   1517\u001b[0m \u001b[39melse\u001b[39;00m:\n\u001b[1;32m-> 1518\u001b[0m     \u001b[39mreturn\u001b[39;00m \u001b[39mself\u001b[39;49m\u001b[39m.\u001b[39;49m_call_impl(\u001b[39m*\u001b[39;49margs, \u001b[39m*\u001b[39;49m\u001b[39m*\u001b[39;49mkwargs)\n",
      "File \u001b[1;32mc:\\Python311\\Lib\\site-packages\\torch\\nn\\modules\\module.py:1527\u001b[0m, in \u001b[0;36mModule._call_impl\u001b[1;34m(self, *args, **kwargs)\u001b[0m\n\u001b[0;32m   1522\u001b[0m \u001b[39m# If we don't have any hooks, we want to skip the rest of the logic in\u001b[39;00m\n\u001b[0;32m   1523\u001b[0m \u001b[39m# this function, and just call forward.\u001b[39;00m\n\u001b[0;32m   1524\u001b[0m \u001b[39mif\u001b[39;00m \u001b[39mnot\u001b[39;00m (\u001b[39mself\u001b[39m\u001b[39m.\u001b[39m_backward_hooks \u001b[39mor\u001b[39;00m \u001b[39mself\u001b[39m\u001b[39m.\u001b[39m_backward_pre_hooks \u001b[39mor\u001b[39;00m \u001b[39mself\u001b[39m\u001b[39m.\u001b[39m_forward_hooks \u001b[39mor\u001b[39;00m \u001b[39mself\u001b[39m\u001b[39m.\u001b[39m_forward_pre_hooks\n\u001b[0;32m   1525\u001b[0m         \u001b[39mor\u001b[39;00m _global_backward_pre_hooks \u001b[39mor\u001b[39;00m _global_backward_hooks\n\u001b[0;32m   1526\u001b[0m         \u001b[39mor\u001b[39;00m _global_forward_hooks \u001b[39mor\u001b[39;00m _global_forward_pre_hooks):\n\u001b[1;32m-> 1527\u001b[0m     \u001b[39mreturn\u001b[39;00m forward_call(\u001b[39m*\u001b[39;49margs, \u001b[39m*\u001b[39;49m\u001b[39m*\u001b[39;49mkwargs)\n\u001b[0;32m   1529\u001b[0m \u001b[39mtry\u001b[39;00m:\n\u001b[0;32m   1530\u001b[0m     result \u001b[39m=\u001b[39m \u001b[39mNone\u001b[39;00m\n",
      "File \u001b[1;32mc:\\Users\\chris\\Desktop\\recurrent_neuron_transformers\\models\\recurrent_neuron_transformer.py:83\u001b[0m, in \u001b[0;36mRecurrentNeuronTransformer.forward\u001b[1;34m(self, inputs, hidden_layers)\u001b[0m\n\u001b[0;32m     81\u001b[0m inputs \u001b[39m=\u001b[39m inputs\u001b[39m.\u001b[39mto(\u001b[39mself\u001b[39m\u001b[39m.\u001b[39mdevice)\n\u001b[0;32m     82\u001b[0m outputs \u001b[39m=\u001b[39m \u001b[39mself\u001b[39m\u001b[39m.\u001b[39membed(inputs)\n\u001b[1;32m---> 83\u001b[0m outputs, hidden_layers \u001b[39m=\u001b[39m \u001b[39mself\u001b[39;49m\u001b[39m.\u001b[39;49mmulti_head_attention(outputs, hidden_layers)\n\u001b[0;32m     84\u001b[0m outputs, hidden_layers \u001b[39m=\u001b[39m \u001b[39mself\u001b[39m\u001b[39m.\u001b[39mfeedforward_layer(outputs, hidden_layers)\n\u001b[0;32m     85\u001b[0m outputs, hidden_layers \u001b[39m=\u001b[39m \u001b[39mself\u001b[39m\u001b[39m.\u001b[39mfinal_layer(outputs, hidden_layers)\n",
      "File \u001b[1;32mc:\\Users\\chris\\Desktop\\recurrent_neuron_transformers\\models\\recurrent_neuron_transformer.py:116\u001b[0m, in \u001b[0;36mRecurrentNeuronTransformer.multi_head_attention\u001b[1;34m(self, inputs, hidden_layers)\u001b[0m\n\u001b[0;32m    112\u001b[0m mask \u001b[39m=\u001b[39m torch\u001b[39m.\u001b[39mtriu(torch\u001b[39m.\u001b[39mones((T, T), device\u001b[39m=\u001b[39m\u001b[39mself\u001b[39m\u001b[39m.\u001b[39mdevice), diagonal\u001b[39m=\u001b[39m\u001b[39m1\u001b[39m)\u001b[39m.\u001b[39mbool()\n\u001b[0;32m    114\u001b[0m \u001b[39m# Head #1\u001b[39;00m\n\u001b[1;32m--> 116\u001b[0m k1, hidden_layers[\u001b[39m\"\u001b[39m\u001b[39mk1\u001b[39m\u001b[39m\"\u001b[39m] \u001b[39m=\u001b[39m \u001b[39mself\u001b[39;49m\u001b[39m.\u001b[39;49mk1(inputs, hidden_layers\u001b[39m.\u001b[39;49mget(\u001b[39m\"\u001b[39;49m\u001b[39mk1\u001b[39;49m\u001b[39m\"\u001b[39;49m))\n\u001b[0;32m    117\u001b[0m v1, hidden_layers[\u001b[39m\"\u001b[39m\u001b[39mv1\u001b[39m\u001b[39m\"\u001b[39m] \u001b[39m=\u001b[39m \u001b[39mself\u001b[39m\u001b[39m.\u001b[39mv1(inputs, hidden_layers\u001b[39m.\u001b[39mget(\u001b[39m\"\u001b[39m\u001b[39mv1\u001b[39m\u001b[39m\"\u001b[39m))\n\u001b[0;32m    118\u001b[0m q1, hidden_layers[\u001b[39m\"\u001b[39m\u001b[39mq1\u001b[39m\u001b[39m\"\u001b[39m] \u001b[39m=\u001b[39m \u001b[39mself\u001b[39m\u001b[39m.\u001b[39mq1(inputs, hidden_layers\u001b[39m.\u001b[39mget(\u001b[39m\"\u001b[39m\u001b[39mq1\u001b[39m\u001b[39m\"\u001b[39m))\n",
      "File \u001b[1;32mc:\\Python311\\Lib\\site-packages\\torch\\nn\\modules\\module.py:1518\u001b[0m, in \u001b[0;36mModule._wrapped_call_impl\u001b[1;34m(self, *args, **kwargs)\u001b[0m\n\u001b[0;32m   1516\u001b[0m     \u001b[39mreturn\u001b[39;00m \u001b[39mself\u001b[39m\u001b[39m.\u001b[39m_compiled_call_impl(\u001b[39m*\u001b[39margs, \u001b[39m*\u001b[39m\u001b[39m*\u001b[39mkwargs)  \u001b[39m# type: ignore[misc]\u001b[39;00m\n\u001b[0;32m   1517\u001b[0m \u001b[39melse\u001b[39;00m:\n\u001b[1;32m-> 1518\u001b[0m     \u001b[39mreturn\u001b[39;00m \u001b[39mself\u001b[39;49m\u001b[39m.\u001b[39;49m_call_impl(\u001b[39m*\u001b[39;49margs, \u001b[39m*\u001b[39;49m\u001b[39m*\u001b[39;49mkwargs)\n",
      "File \u001b[1;32mc:\\Python311\\Lib\\site-packages\\torch\\nn\\modules\\module.py:1527\u001b[0m, in \u001b[0;36mModule._call_impl\u001b[1;34m(self, *args, **kwargs)\u001b[0m\n\u001b[0;32m   1522\u001b[0m \u001b[39m# If we don't have any hooks, we want to skip the rest of the logic in\u001b[39;00m\n\u001b[0;32m   1523\u001b[0m \u001b[39m# this function, and just call forward.\u001b[39;00m\n\u001b[0;32m   1524\u001b[0m \u001b[39mif\u001b[39;00m \u001b[39mnot\u001b[39;00m (\u001b[39mself\u001b[39m\u001b[39m.\u001b[39m_backward_hooks \u001b[39mor\u001b[39;00m \u001b[39mself\u001b[39m\u001b[39m.\u001b[39m_backward_pre_hooks \u001b[39mor\u001b[39;00m \u001b[39mself\u001b[39m\u001b[39m.\u001b[39m_forward_hooks \u001b[39mor\u001b[39;00m \u001b[39mself\u001b[39m\u001b[39m.\u001b[39m_forward_pre_hooks\n\u001b[0;32m   1525\u001b[0m         \u001b[39mor\u001b[39;00m _global_backward_pre_hooks \u001b[39mor\u001b[39;00m _global_backward_hooks\n\u001b[0;32m   1526\u001b[0m         \u001b[39mor\u001b[39;00m _global_forward_hooks \u001b[39mor\u001b[39;00m _global_forward_pre_hooks):\n\u001b[1;32m-> 1527\u001b[0m     \u001b[39mreturn\u001b[39;00m forward_call(\u001b[39m*\u001b[39;49margs, \u001b[39m*\u001b[39;49m\u001b[39m*\u001b[39;49mkwargs)\n\u001b[0;32m   1529\u001b[0m \u001b[39mtry\u001b[39;00m:\n\u001b[0;32m   1530\u001b[0m     result \u001b[39m=\u001b[39m \u001b[39mNone\u001b[39;00m\n",
      "File \u001b[1;32mc:\\Users\\chris\\Desktop\\recurrent_neuron_transformers\\models\\recurrent_neuron_layer.py:55\u001b[0m, in \u001b[0;36mRecurrentNeuronLayer.forward\u001b[1;34m(self, x, hidden_state)\u001b[0m\n\u001b[0;32m     52\u001b[0m seq_len \u001b[39m=\u001b[39m x\u001b[39m.\u001b[39mshape[\u001b[39m1\u001b[39m]\n\u001b[0;32m     54\u001b[0m x \u001b[39m=\u001b[39m \u001b[39mself\u001b[39m\u001b[39m.\u001b[39mweights(x)\n\u001b[1;32m---> 55\u001b[0m x, hidden_state \u001b[39m=\u001b[39m \u001b[39mself\u001b[39;49m\u001b[39m.\u001b[39;49mneurons(x, hidden_state)\n\u001b[0;32m     57\u001b[0m \u001b[39m# Reshape the output to ensure it has the shape [batch_size, n_classes]\u001b[39;00m\n\u001b[0;32m     58\u001b[0m final_output \u001b[39m=\u001b[39m x\u001b[39m.\u001b[39mview(batch_size, seq_len, \u001b[39m-\u001b[39m\u001b[39m1\u001b[39m)\n",
      "File \u001b[1;32mc:\\Python311\\Lib\\site-packages\\torch\\nn\\modules\\module.py:1518\u001b[0m, in \u001b[0;36mModule._wrapped_call_impl\u001b[1;34m(self, *args, **kwargs)\u001b[0m\n\u001b[0;32m   1516\u001b[0m     \u001b[39mreturn\u001b[39;00m \u001b[39mself\u001b[39m\u001b[39m.\u001b[39m_compiled_call_impl(\u001b[39m*\u001b[39margs, \u001b[39m*\u001b[39m\u001b[39m*\u001b[39mkwargs)  \u001b[39m# type: ignore[misc]\u001b[39;00m\n\u001b[0;32m   1517\u001b[0m \u001b[39melse\u001b[39;00m:\n\u001b[1;32m-> 1518\u001b[0m     \u001b[39mreturn\u001b[39;00m \u001b[39mself\u001b[39;49m\u001b[39m.\u001b[39;49m_call_impl(\u001b[39m*\u001b[39;49margs, \u001b[39m*\u001b[39;49m\u001b[39m*\u001b[39;49mkwargs)\n",
      "File \u001b[1;32mc:\\Python311\\Lib\\site-packages\\torch\\nn\\modules\\module.py:1527\u001b[0m, in \u001b[0;36mModule._call_impl\u001b[1;34m(self, *args, **kwargs)\u001b[0m\n\u001b[0;32m   1522\u001b[0m \u001b[39m# If we don't have any hooks, we want to skip the rest of the logic in\u001b[39;00m\n\u001b[0;32m   1523\u001b[0m \u001b[39m# this function, and just call forward.\u001b[39;00m\n\u001b[0;32m   1524\u001b[0m \u001b[39mif\u001b[39;00m \u001b[39mnot\u001b[39;00m (\u001b[39mself\u001b[39m\u001b[39m.\u001b[39m_backward_hooks \u001b[39mor\u001b[39;00m \u001b[39mself\u001b[39m\u001b[39m.\u001b[39m_backward_pre_hooks \u001b[39mor\u001b[39;00m \u001b[39mself\u001b[39m\u001b[39m.\u001b[39m_forward_hooks \u001b[39mor\u001b[39;00m \u001b[39mself\u001b[39m\u001b[39m.\u001b[39m_forward_pre_hooks\n\u001b[0;32m   1525\u001b[0m         \u001b[39mor\u001b[39;00m _global_backward_pre_hooks \u001b[39mor\u001b[39;00m _global_backward_hooks\n\u001b[0;32m   1526\u001b[0m         \u001b[39mor\u001b[39;00m _global_forward_hooks \u001b[39mor\u001b[39;00m _global_forward_pre_hooks):\n\u001b[1;32m-> 1527\u001b[0m     \u001b[39mreturn\u001b[39;00m forward_call(\u001b[39m*\u001b[39;49margs, \u001b[39m*\u001b[39;49m\u001b[39m*\u001b[39;49mkwargs)\n\u001b[0;32m   1529\u001b[0m \u001b[39mtry\u001b[39;00m:\n\u001b[0;32m   1530\u001b[0m     result \u001b[39m=\u001b[39m \u001b[39mNone\u001b[39;00m\n",
      "File \u001b[1;32mc:\\Users\\chris\\Desktop\\recurrent_neuron_transformers\\models\\recurrent_neuron_layer.py:30\u001b[0m, in \u001b[0;36mNeurons.forward\u001b[1;34m(self, inputs, hidden_state)\u001b[0m\n\u001b[0;32m     27\u001b[0m ones \u001b[39m=\u001b[39m torch\u001b[39m.\u001b[39mones_like(inputs)\n\u001b[0;32m     29\u001b[0m \u001b[39m# Concatenate along the second dimension\u001b[39;00m\n\u001b[1;32m---> 30\u001b[0m stacked \u001b[39m=\u001b[39m torch\u001b[39m.\u001b[39;49mcat((inputs, hidden_batch, ones), dim\u001b[39m=\u001b[39;49m\u001b[39m1\u001b[39;49m)\n\u001b[0;32m     32\u001b[0m \u001b[39m# Reshape stacked for matrix multiplication: [batch_size, seq_len, n_neurons, 3]\u001b[39;00m\n\u001b[0;32m     33\u001b[0m stacked \u001b[39m=\u001b[39m stacked\u001b[39m.\u001b[39mview(batch_size, seq_len, \u001b[39mself\u001b[39m\u001b[39m.\u001b[39mn_neurons, \u001b[39m3\u001b[39m)\n",
      "\u001b[1;31mRuntimeError\u001b[0m: Sizes of tensors must match except in dimension 1. Expected size 96 but got size 1 for tensor number 1 in the list."
     ]
    }
   ],
   "source": [
    "# Define the step size to use for the sliding window\n",
    "step_size = 64\n",
    "\n",
    "# Train the model\n",
    "train_shakespeare_trainsformer(transformer_model, context_window, step_size, data_loader, \n",
    "                               optimizer=transformer_optimizer, num_epochs=2)"
   ]
  }
 ],
 "metadata": {
  "kernelspec": {
   "display_name": "Python 3",
   "language": "python",
   "name": "python3"
  },
  "language_info": {
   "codemirror_mode": {
    "name": "ipython",
    "version": 3
   },
   "file_extension": ".py",
   "mimetype": "text/x-python",
   "name": "python",
   "nbconvert_exporter": "python",
   "pygments_lexer": "ipython3",
   "version": "3.11.0"
  }
 },
 "nbformat": 4,
 "nbformat_minor": 2
}
